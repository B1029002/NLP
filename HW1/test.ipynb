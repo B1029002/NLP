{
 "cells": [
  {
   "cell_type": "code",
   "execution_count": 56,
   "id": "2298982d",
   "metadata": {},
   "outputs": [],
   "source": [
    "import torch\n",
    "import torch.nn as nn\n",
    "import torch.optim as optim\n",
    "from tqdm import tqdm\n",
    "import numpy as np\n",
    "import re\n",
    "from sklearn.metrics import precision_recall_fscore_support\n",
    "import matplotlib.pyplot as plt"
   ]
  },
  {
   "cell_type": "code",
   "execution_count": null,
   "id": "e195f7e3",
   "metadata": {},
   "outputs": [],
   "source": [
    "# Config\n",
    "TRAIN_PATH = 'wnut_16/train.txt'\n",
    "DEV_PATH = 'wnut_16/dev.txt'\n",
    "TEST_PATH = 'wnut_16/test.txt'\n",
    "EMBEDDINGS_PATH = 'wnut_16/glove.twitter.27B.200d.txt'\n",
    "\n",
    "EMBEDDING_DIM = 200\n",
    "HIDDEN_DIM = 200\n",
    "NUM_LAYERS = 2\n",
    "BATCH_SIZE = 16\n",
    "EPOCHS = 30\n",
    "LEARNING_RATE = 5e-4\n",
    "DROPOUT = 0.5\n",
    "WEIGHT_DECAY = 5e-5\n",
    "CLIP_GRAD = 5.0\n",
    "CASE_DIM = 3\n",
    "CASE_PROJ_DIM = 8"
   ]
  },
  {
   "cell_type": "code",
   "execution_count": 58,
   "id": "75040b75",
   "metadata": {},
   "outputs": [],
   "source": [
    "# Data Preprocessing\n",
    "class Indexer:\n",
    "    \"\"\"Convert words/tags to indices and vice versa.\"\"\"\n",
    "    def __init__(self, elements, is_word_dict=True):\n",
    "        if is_word_dict:\n",
    "            self._element_to_index = {\"<PAD>\": 0, \"<UNK>\": 1}\n",
    "        else:\n",
    "            self._element_to_index = {\"<PAD>\": 0}\n",
    "        for x in sorted(set(elements)):\n",
    "            if x not in self._element_to_index:\n",
    "                self._element_to_index[x] = len(self._element_to_index)\n",
    "        self._index_to_element = {v: k for k, v in self._element_to_index.items()}\n",
    "\n",
    "    def element_to_index(self, element):\n",
    "        return self._element_to_index.get(element, 1 if \"<UNK>\" in self._element_to_index else 0)\n",
    "\n",
    "    def index_to_element(self, index):\n",
    "        return self._index_to_element.get(index, \"<UNK>\")\n",
    "\n",
    "    def elements_to_indices(self, elements):\n",
    "        return [self.element_to_index(x) for x in elements]\n",
    "\n",
    "    def indices_to_elements(self, indices):\n",
    "        return [self.index_to_element(x) for x in indices]\n",
    "\n",
    "    def size(self):\n",
    "        return len(self._element_to_index)\n",
    "\n",
    "    def get_dict(self):\n",
    "        return self._element_to_index\n",
    "\n",
    "def clean_text(word):\n",
    "    \"\"\"Twitter-style normalization without lowercasing.\"\"\"\n",
    "    w = word\n",
    "    w = re.sub(r\"http\\S+|www\\S+\", \"<url>\", w)\n",
    "    w = re.sub(r\"@\\S+\", \"<user>\", w)\n",
    "    w = re.sub(r\"#\\S+\", \"<hashtag>\", w)\n",
    "    return w\n",
    "\n",
    "def casing_features(original_word):\n",
    "    \"\"\"3-dim case features: all_upper / capitalized / mixed.\"\"\"\n",
    "    w = original_word\n",
    "    is_alpha = any(c.isalpha() for c in w)\n",
    "    if not is_alpha:\n",
    "        return [0.0, 0.0, 0.0]\n",
    "    all_upper = 1.0 if w.isupper() else 0.0\n",
    "    capitalized = 1.0 if (len(w) > 0 and w[0].isupper() and w[1:].islower()) else 0.0\n",
    "    mixed = 1.0 if (not all_upper and not capitalized and any(c.isupper() for c in w) and any(c.islower() for c in w)) else 0.0\n",
    "    return [all_upper, capitalized, mixed]\n",
    "\n",
    "def load_glove_embeddings(path):\n",
    "    embeddings = {}\n",
    "    print(\"Loading GloVe embeddings\")\n",
    "    with open(path, 'r', encoding='utf-8') as f:\n",
    "        for line in tqdm(f):\n",
    "            values = line.rstrip().split(' ')\n",
    "            word = values[0]\n",
    "            try:\n",
    "                vector = np.asarray(values[1:], dtype='float32')\n",
    "                if vector.shape[0] == EMBEDDING_DIM:\n",
    "                    embeddings[word] = vector\n",
    "            except:\n",
    "                continue\n",
    "    print(f\"Loaded {len(embeddings)} word vectors\")\n",
    "    return embeddings\n",
    "\n",
    "def read_data(path, has_labels=True):\n",
    "    sentences = []\n",
    "    sentence = []\n",
    "    with open(path, 'r', encoding='utf-8') as f:\n",
    "        for line in f:\n",
    "            if line.strip() == \"\":\n",
    "                if sentence:\n",
    "                    sentences.append(sentence)\n",
    "                    sentence = []\n",
    "            else:\n",
    "                parts = line.strip().split()\n",
    "                word = parts[0]\n",
    "                cleaned_word = clean_text(word)\n",
    "                tag = parts[-1] if has_labels else 'O'\n",
    "                sentence.append((cleaned_word, tag, word))\n",
    "    if sentence:\n",
    "        sentences.append(sentence)\n",
    "    return sentences\n",
    "\n",
    "def pad_sequences(sequences, max_len, pad_value=0):\n",
    "    padded = []\n",
    "    for seq in sequences:\n",
    "        if len(seq) < max_len:\n",
    "            seq = seq + [pad_value] * (max_len - len(seq))\n",
    "        else:\n",
    "            seq = seq[:max_len]\n",
    "        padded.append(seq)\n",
    "    return padded\n",
    "\n",
    "def pad_feature_sequences(sequences, max_len, feat_dim):\n",
    "    padded = []\n",
    "    zero = [0.0] * feat_dim\n",
    "    for seq in sequences:\n",
    "        if len(seq) < max_len:\n",
    "            seq = seq + [zero] * (max_len - len(seq))\n",
    "        else:\n",
    "            seq = seq[:max_len]\n",
    "        padded.append(seq)\n",
    "    return padded\n",
    "\n",
    "def prepare_data(sentences, word_indexer, tag_indexer, max_len):\n",
    "    X_words, X_case, y = [], [], []\n",
    "    for sentence in sentences:\n",
    "        words = [word for word, tag, _ in sentence]\n",
    "        origs = [orig for _, _, orig in sentence]\n",
    "        tags = [tag for _, tag, _ in sentence]\n",
    "\n",
    "        word_indices = word_indexer.elements_to_indices(words)\n",
    "        case_feats = [casing_features(o) for o in origs]\n",
    "        tag_indices = tag_indexer.elements_to_indices(tags)\n",
    "\n",
    "        X_words.append(word_indices)\n",
    "        X_case.append(case_feats)\n",
    "        y.append(tag_indices)\n",
    "\n",
    "    X_words = pad_sequences(X_words, max_len, word_indexer.element_to_index(\"<PAD>\"))\n",
    "    X_case = pad_feature_sequences(X_case, max_len, CASE_DIM)\n",
    "    y = pad_sequences(y, max_len, tag_indexer.element_to_index(\"<PAD>\"))\n",
    "\n",
    "    return np.array(X_words), np.array(X_case, dtype=np.float32), np.array(y)\n"
   ]
  },
  {
   "cell_type": "code",
   "execution_count": 59,
   "id": "51dd5696",
   "metadata": {},
   "outputs": [],
   "source": [
    "# CRF\n",
    "class CRF(nn.Module):\n",
    "    def __init__(self, num_tags: int, pad_tag_id: int = 0):\n",
    "        super().__init__()\n",
    "        self.num_tags = num_tags\n",
    "        self.pad_tag_id = pad_tag_id\n",
    "        self.transitions = nn.Parameter(torch.empty(num_tags, num_tags))\n",
    "        nn.init.uniform_(self.transitions, -0.1, 0.1)\n",
    "        self.start_transitions = nn.Parameter(torch.empty(num_tags))\n",
    "        self.end_transitions = nn.Parameter(torch.empty(num_tags))\n",
    "        nn.init.uniform_(self.start_transitions, -0.1, 0.1)\n",
    "        nn.init.uniform_(self.end_transitions, -0.1, 0.1)\n",
    "        with torch.no_grad():\n",
    "            self.transitions[:, pad_tag_id] = -1e4\n",
    "            self.transitions[pad_tag_id, :] = -1e4\n",
    "            self.start_transitions[pad_tag_id] = -1e4\n",
    "            self.end_transitions[pad_tag_id] = -1e4\n",
    "\n",
    "    def _log_sum_exp(self, tensor, dim=-1):\n",
    "        max_score, _ = tensor.max(dim=dim, keepdim=True)\n",
    "        return max_score + torch.log(torch.sum(torch.exp(tensor - max_score), dim=dim, keepdim=True))\n",
    "\n",
    "    def _compute_log_partition(self, emissions, mask):\n",
    "        B, T, C = emissions.shape\n",
    "        score = self.start_transitions + emissions[:, 0]\n",
    "        for t in range(1, T):\n",
    "            emit_t = emissions[:, t]\n",
    "            mask_t = mask[:, t].unsqueeze(1)\n",
    "            score_t = score.unsqueeze(2) + self.transitions.unsqueeze(0) + emit_t.unsqueeze(1)\n",
    "            score = torch.where(mask_t.bool(), self._log_sum_exp(score_t, dim=1).squeeze(1), score)\n",
    "        score = score + self.end_transitions\n",
    "        return self._log_sum_exp(score, dim=1).squeeze(1)\n",
    "\n",
    "    def _compute_sequence_score(self, emissions, tags, mask):\n",
    "        B, T, C = emissions.shape\n",
    "        first_tags = tags[:, 0]\n",
    "        score = self.start_transitions[first_tags] + emissions[:, 0].gather(1, first_tags.unsqueeze(1)).squeeze(1)\n",
    "        for t in range(1, T):\n",
    "            mask_t = mask[:, t]\n",
    "            prev_tags = tags[:, t - 1]\n",
    "            curr_tags = tags[:, t]\n",
    "            trans_score = self.transitions[prev_tags, curr_tags]\n",
    "            emit_score = emissions[:, t].gather(1, curr_tags.unsqueeze(1)).squeeze(1)\n",
    "            score = score + (trans_score + emit_score) * mask_t\n",
    "        last_tag_indices = mask.long().sum(dim=1) - 1\n",
    "        last_tags = tags.gather(1, last_tag_indices.unsqueeze(1)).squeeze(1)\n",
    "        score = score + self.end_transitions[last_tags]\n",
    "        return score\n",
    "\n",
    "    def forward(self, emissions, tags, mask=None, reduction='sum'):\n",
    "        if mask is None:\n",
    "            mask = torch.ones_like(tags, dtype=torch.bool, device=emissions.device)\n",
    "        mask = mask.bool()\n",
    "        log_Z = self._compute_log_partition(emissions, mask)\n",
    "        seq_score = self._compute_sequence_score(emissions, tags, mask)\n",
    "        log_likelihood = seq_score - log_Z\n",
    "        if reduction == 'sum':\n",
    "            return log_likelihood.sum()\n",
    "        elif reduction == 'mean':\n",
    "            return log_likelihood.mean()\n",
    "        return log_likelihood\n",
    "\n",
    "    def decode(self, emissions, mask=None):\n",
    "        if mask is None:\n",
    "            mask = torch.ones(emissions.shape[:2], dtype=torch.bool, device=emissions.device)\n",
    "        mask = mask.bool()\n",
    "        B, T, C = emissions.shape\n",
    "        score = self.start_transitions + emissions[:, 0]\n",
    "        history = []\n",
    "        for t in range(1, T):\n",
    "            emit_t = emissions[:, t]\n",
    "            mask_t = mask[:, t].unsqueeze(1)\n",
    "            score_t = score.unsqueeze(2) + self.transitions.unsqueeze(0)\n",
    "            best_score, best_path = score_t.max(dim=1)\n",
    "            score = torch.where(mask_t.bool(), best_score + emit_t, score)\n",
    "            history.append(best_path)\n",
    "        score = score + self.end_transitions\n",
    "        seq_ends = mask.long().sum(dim=1) - 1\n",
    "        best_tags_list = []\n",
    "        for i in range(B):\n",
    "            best_last_tag = score[i].argmax().item()\n",
    "            best_tags = [best_last_tag]\n",
    "            for back_t in range(len(history) - 1, -1, -1):\n",
    "                if back_t + 1 > seq_ends[i]:\n",
    "                    continue\n",
    "                best_last_tag = history[back_t][i][best_last_tag].item()\n",
    "                best_tags.append(best_last_tag)\n",
    "            best_tags.reverse()\n",
    "            best_tags = best_tags[: seq_ends[i] + 1]\n",
    "            best_tags_list.append(best_tags)\n",
    "        return best_tags_list"
   ]
  },
  {
   "cell_type": "code",
   "execution_count": 60,
   "id": "135c9cc0",
   "metadata": {},
   "outputs": [],
   "source": [
    "# Model Structure\n",
    "class BiLSTM_NER(nn.Module):\n",
    "    \"\"\"BiLSTM + CRF with casing features.\"\"\"\n",
    "    def __init__(self, vocab_size, embedding_dim, hidden_dim, tagset_size,\n",
    "                 pretrained_embeddings=None, dropout=0.4, num_layers=2, pad_tag_id=0,\n",
    "                 case_dim=CASE_DIM, case_proj_dim=CASE_PROJ_DIM):\n",
    "        super(BiLSTM_NER, self).__init__()\n",
    "        self.pad_tag_id = pad_tag_id\n",
    "\n",
    "        self.embedding = nn.Embedding(vocab_size, embedding_dim, padding_idx=0)\n",
    "        if pretrained_embeddings is not None:\n",
    "            self.embedding.weight.data.copy_(torch.from_numpy(pretrained_embeddings))\n",
    "            self.embedding.weight.requires_grad = False\n",
    "\n",
    "        self.case_proj = nn.Linear(case_dim, case_proj_dim)\n",
    "\n",
    "        self.dropout = nn.Dropout(dropout)\n",
    "        self.lstm = nn.LSTM(\n",
    "            embedding_dim + case_proj_dim,\n",
    "            hidden_dim,\n",
    "            num_layers=num_layers,\n",
    "            bidirectional=True,\n",
    "            batch_first=True,\n",
    "            dropout=dropout if num_layers > 1 else 0.0\n",
    "        )\n",
    "        self.layernorm = nn.LayerNorm(hidden_dim * 2)\n",
    "        self.hidden2tag = nn.Linear(hidden_dim * 2, tagset_size)\n",
    "        self.crf = CRF(num_tags=tagset_size, pad_tag_id=pad_tag_id)\n",
    "\n",
    "    def emissions(self, sentences, case_feats, lengths=None):\n",
    "        word_emb = self.embedding(sentences)                      \n",
    "        case_emb = torch.tanh(self.case_proj(case_feats))         \n",
    "        x = torch.cat([word_emb, case_emb], dim=-1)               \n",
    "        x = self.dropout(x)\n",
    "\n",
    "        if lengths is not None:\n",
    "            packed = nn.utils.rnn.pack_padded_sequence(\n",
    "                x, lengths.cpu(), batch_first=True, enforce_sorted=False\n",
    "            )\n",
    "            lstm_out, _ = self.lstm(packed)\n",
    "            lstm_out, _ = nn.utils.rnn.pad_packed_sequence(\n",
    "                lstm_out, batch_first=True, total_length=sentences.size(1)\n",
    "            )\n",
    "        else:\n",
    "            lstm_out, _ = self.lstm(x)\n",
    "\n",
    "        lstm_out = self.layernorm(lstm_out)\n",
    "        lstm_out = self.dropout(lstm_out)\n",
    "        tag_space = self.hidden2tag(lstm_out)  \n",
    "        return tag_space\n",
    "\n",
    "    def neg_log_likelihood(self, sentences, case_feats, tags, mask, lengths=None, reduction='mean'):\n",
    "        emit = self.emissions(sentences, case_feats, lengths)\n",
    "        llh = self.crf(emit, tags, mask=mask, reduction=reduction)\n",
    "        return -llh\n",
    "\n",
    "    def decode(self, sentences, case_feats, mask, lengths=None):\n",
    "        emit = self.emissions(sentences, case_feats, lengths)\n",
    "        return self.crf.decode(emit, mask=mask)"
   ]
  },
  {
   "cell_type": "code",
   "execution_count": 61,
   "id": "fd0c7319",
   "metadata": {},
   "outputs": [],
   "source": [
    "def create_embedding_matrix(word_indexer, glove_embeddings, embedding_dim):\n",
    "    vocab_size = word_indexer.size()\n",
    "    embedding_matrix = np.zeros((vocab_size, embedding_dim))\n",
    "    unknown_vector = np.random.randn(embedding_dim) * 0.1\n",
    "    found = 0\n",
    "    for word, idx in word_indexer.get_dict().items():\n",
    "        if word == \"<PAD>\":\n",
    "            embedding_matrix[idx] = np.zeros(embedding_dim)\n",
    "            continue\n",
    "        key = word.lower()\n",
    "        if key in glove_embeddings:\n",
    "            embedding_matrix[idx] = glove_embeddings[key]\n",
    "            found += 1\n",
    "        else:\n",
    "            embedding_matrix[idx] = unknown_vector\n",
    "    print(f\"Found embeddings for {found}/{vocab_size} words ({100*found/vocab_size:.2f}%)\")\n",
    "    return embedding_matrix\n",
    "\n",
    "def get_sequence_lengths(batch_X, pad_idx=0):\n",
    "    mask = (batch_X != pad_idx).long()\n",
    "    lengths = mask.sum(dim=1)\n",
    "    return lengths\n",
    "\n",
    "def apply_bio_constraints(crf, tag_indexer):\n",
    "    \"\"\"Set illegal BIO transitions to a very low score.\"\"\"\n",
    "    tags = {i: t for t, i in tag_indexer.get_dict().items()}\n",
    "\n",
    "    def type_of(t):\n",
    "        return t.split('-', 1)[1] if '-' in t else None\n",
    "\n",
    "    with torch.no_grad():\n",
    "        for i, ti in tags.items():\n",
    "            for j, tj in tags.items():\n",
    "                if i == crf.pad_tag_id or j == crf.pad_tag_id:\n",
    "                    crf.transitions[i, j] = -1e4\n",
    "                    continue\n",
    "                if ti.startswith('I-'):\n",
    "                    crf.start_transitions[i] = -1e4\n",
    "                if ti == 'O' and tj.startswith('I-'):\n",
    "                    crf.transitions[i, j] = -1e4\n",
    "                if (ti.startswith('B-') or ti.startswith('I-')) and tj.startswith('I-'):\n",
    "                    if type_of(ti) != type_of(tj):\n",
    "                        crf.transitions[i, j] = -1e4\n"
   ]
  },
  {
   "cell_type": "code",
   "execution_count": 62,
   "id": "990f93bb",
   "metadata": {},
   "outputs": [],
   "source": [
    "def evaluate_detailed(model, val_loader, tag_indexer, device):\n",
    "    model.eval()\n",
    "    all_predictions = []\n",
    "    all_true_tags = []\n",
    "\n",
    "    with torch.no_grad():\n",
    "        for batch_Xw, batch_Xc, batch_y in val_loader:\n",
    "            batch_Xw = batch_Xw.to(device)\n",
    "            batch_Xc = batch_Xc.to(device)\n",
    "            batch_y  = batch_y.to(device)\n",
    "\n",
    "            lengths = get_sequence_lengths(batch_Xw)\n",
    "            mask = (batch_y != 0).to(device)\n",
    "\n",
    "            pred_paths = model.decode(batch_Xw, batch_Xc, mask=mask, lengths=lengths)\n",
    "            for i, path in enumerate(pred_paths):\n",
    "                gold = batch_y[i][mask[i]].tolist()\n",
    "                pred = path[:len(gold)]\n",
    "                all_predictions.extend(pred)\n",
    "                all_true_tags.extend(gold)\n",
    "\n",
    "    pred_labels = [tag_indexer.index_to_element(p) for p in all_predictions]\n",
    "    true_labels = [tag_indexer.index_to_element(t) for t in all_true_tags]\n",
    "    labels = sorted(set(true_labels) - {'<PAD>'})\n",
    "\n",
    "    precision, recall, f1, support = precision_recall_fscore_support(\n",
    "        true_labels, pred_labels, labels=labels, average=None, zero_division=0\n",
    "    )\n",
    "    macro_precision = float(np.mean(precision)) if len(precision) else 0.0\n",
    "    macro_recall = float(np.mean(recall)) if len(recall) else 0.0\n",
    "    macro_f1 = float(np.mean(f1)) if len(f1) else 0.0\n",
    "    accuracy = (sum(p == t for p, t in zip(pred_labels, true_labels)) / len(pred_labels)) if pred_labels else 0.0\n",
    "\n",
    "    return {\n",
    "        'accuracy': accuracy,\n",
    "        'precision': macro_precision,\n",
    "        'recall': macro_recall,\n",
    "        'f1': macro_f1,\n",
    "        'per_class': {\n",
    "            label: {'precision': float(p), 'recall': float(r), 'f1': float(f), 'support': int(s)}\n",
    "            for label, p, r, f, s in zip(labels, precision, recall, f1, support)\n",
    "        }\n",
    "    }"
   ]
  },
  {
   "cell_type": "code",
   "execution_count": 63,
   "id": "27d3dda8",
   "metadata": {},
   "outputs": [],
   "source": [
    "def bio_to_spans(tags):\n",
    "    \"\"\"Convert BIO tag sequence to spans: (type, start, end_exclusive).\"\"\"\n",
    "    spans = []\n",
    "    start = None\n",
    "    ent_type = None\n",
    "    for i, t in enumerate(tags + [\"O\"]):\n",
    "        if t.startswith(\"B-\"):\n",
    "            if ent_type is not None:\n",
    "                spans.append((ent_type, start, i))\n",
    "            ent_type = t.split(\"-\", 1)[1]\n",
    "            start = i\n",
    "        elif t.startswith(\"I-\"):\n",
    "            cur_type = t.split(\"-\", 1)[1]\n",
    "            if ent_type != cur_type:\n",
    "                if ent_type is not None:\n",
    "                    spans.append((ent_type, start, i))\n",
    "                ent_type = cur_type\n",
    "                start = i\n",
    "        else:\n",
    "            if ent_type is not None:\n",
    "                spans.append((ent_type, start, i))\n",
    "                ent_type = None\n",
    "                start = None\n",
    "    return spans\n",
    "\n",
    "def entity_f1(true_tag_seqs, pred_tag_seqs):\n",
    "    \"\"\"Micro F1 over exact-match entity spans.\"\"\"\n",
    "    tp = fp = fn = 0\n",
    "    for gold_tags, pred_tags in zip(true_tag_seqs, pred_tag_seqs):\n",
    "        gold_spans = set(bio_to_spans(gold_tags))\n",
    "        pred_spans = set(bio_to_spans(pred_tags))\n",
    "        tp += len(gold_spans & pred_spans)\n",
    "        fp += len(pred_spans - gold_spans)\n",
    "        fn += len(gold_spans - pred_spans)\n",
    "    precision = tp / (tp + fp) if (tp + fp) else 0.0\n",
    "    recall    = tp / (tp + fn) if (tp + fn) else 0.0\n",
    "    f1        = 2*precision*recall/(precision+recall) if (precision+recall) else 0.0\n",
    "    return precision, recall, f1\n",
    "\n",
    "def evaluate_entity_level(model, loader, tag_indexer, device):\n",
    "    \"\"\"Return (precision, recall, f1) on entity-level exact-match spans.\"\"\"\n",
    "    model.eval()\n",
    "    true_tag_seqs, pred_tag_seqs = [], []\n",
    "    with torch.no_grad():\n",
    "        for batch_Xw, batch_Xc, batch_y in loader:\n",
    "            batch_Xw = batch_Xw.to(device)\n",
    "            batch_Xc = batch_Xc.to(device)\n",
    "            batch_y  = batch_y.to(device)\n",
    "\n",
    "            lengths = (batch_Xw != 0).sum(dim=1)\n",
    "            mask = (batch_y != 0)\n",
    "\n",
    "            pred_paths = model.decode(batch_Xw, batch_Xc, mask=mask.to(device), lengths=lengths)\n",
    "            for i, path in enumerate(pred_paths):\n",
    "                L = lengths[i].item()\n",
    "                gold_ids = batch_y[i][:L].tolist()\n",
    "                pred_ids = path[:L]\n",
    "                gold_tags = [tag_indexer.index_to_element(t) for t in gold_ids]\n",
    "                pred_tags = [tag_indexer.index_to_element(t) for t in pred_ids]\n",
    "                gold_tags = [t for t in gold_tags if t != \"<PAD>\"]\n",
    "                pred_tags = [t for t in pred_tags if t != \"<PAD>\"]\n",
    "                true_tag_seqs.append(gold_tags)\n",
    "                pred_tag_seqs.append(pred_tags)\n",
    "    return entity_f1(true_tag_seqs, pred_tag_seqs)"
   ]
  },
  {
   "cell_type": "code",
   "execution_count": 64,
   "id": "3569c2fa",
   "metadata": {},
   "outputs": [],
   "source": [
    "def train_epoch(model, train_loader, optimizer, device, clip_grad=None):\n",
    "    model.train()\n",
    "    total_loss = 0.0\n",
    "    correct = 0\n",
    "    total = 0\n",
    "\n",
    "    for batch_Xw, batch_Xc, batch_y in tqdm(train_loader, desc=\"Training\"):\n",
    "        batch_Xw = batch_Xw.to(device)\n",
    "        batch_Xc = batch_Xc.to(device)\n",
    "        batch_y  = batch_y.to(device)\n",
    "\n",
    "        lengths = get_sequence_lengths(batch_Xw)\n",
    "        mask = (batch_y != 0).to(device)\n",
    "\n",
    "        optimizer.zero_grad()\n",
    "        loss = model.neg_log_likelihood(batch_Xw, batch_Xc, batch_y, mask=mask, lengths=lengths, reduction='mean')\n",
    "        loss.backward()\n",
    "\n",
    "        if clip_grad:\n",
    "            torch.nn.utils.clip_grad_norm_(model.parameters(), clip_grad)\n",
    "        optimizer.step()\n",
    "\n",
    "        total_loss += loss.item()\n",
    "\n",
    "        with torch.no_grad():\n",
    "            pred_paths = model.decode(batch_Xw, batch_Xc, mask=mask, lengths=lengths)\n",
    "            for i, path in enumerate(pred_paths):\n",
    "                gold = batch_y[i][mask[i]].tolist()\n",
    "                pred = path[:len(gold)]\n",
    "                correct += sum(p == g for p, g in zip(pred, gold))\n",
    "                total += len(gold)\n",
    "\n",
    "    return total_loss / len(train_loader), (correct / total if total > 0 else 0.0)\n",
    "\n",
    "def predict(model, data_loader, device):\n",
    "    model.eval()\n",
    "    all_predictions = []\n",
    "    with torch.no_grad():\n",
    "        for batch_Xw, batch_Xc, batch_y in data_loader:\n",
    "            batch_Xw = batch_Xw.to(device)\n",
    "            batch_Xc = batch_Xc.to(device)\n",
    "            lengths = get_sequence_lengths(batch_Xw)\n",
    "            mask = (batch_Xw != 0).to(device)\n",
    "            pred_paths = model.decode(batch_Xw, batch_Xc, mask=mask, lengths=lengths)\n",
    "\n",
    "            max_len = batch_Xw.size(1)\n",
    "            padded_preds = []\n",
    "            for path in pred_paths:\n",
    "                if len(path) < max_len:\n",
    "                    path = path + [0] * (max_len - len(path))\n",
    "                else:\n",
    "                    path = path[:max_len]\n",
    "                padded_preds.append(path)\n",
    "            all_predictions.extend(padded_preds)\n",
    "    return all_predictions\n",
    "\n",
    "def write_predictions(sentences, predictions, tag_indexer, output_path):\n",
    "    with open(output_path, 'w', encoding='utf-8') as f:\n",
    "        for i, sentence in enumerate(sentences):\n",
    "            for j, (_, _, original_word) in enumerate(sentence):\n",
    "                pred_idx = predictions[i][j]\n",
    "                pred_tag = tag_indexer.index_to_element(pred_idx)\n",
    "                if pred_tag == \"<PAD>\":\n",
    "                    continue\n",
    "                f.write(f\"{original_word} {pred_tag}\\n\")\n",
    "            f.write(\"\\n\")\n",
    "\n",
    "def print_metrics(metrics, title=\"Metrics\"):\n",
    "    print(f\"{title:^60}\")\n",
    "    print(f\"Accuracy:{metrics['accuracy']:.4f}\")\n",
    "    print(f\"Precision:{metrics['precision']:.4f}\")\n",
    "    print(f\"Recall:{metrics['recall']:.4f}\")\n",
    "    print(f\"F1-Score:{metrics['f1']:.4f}\")\n",
    "    print(f\"{'Per-class metrics:':^60}\")\n",
    "    print(f\"{'Class':<15} {'Precision':<12} {'Recall':<12} {'F1':<12} {'Support':<10}\")\n",
    "    for label, scores in sorted(metrics['per_class'].items()):\n",
    "        print(f\"{label:<15} {scores['precision']:<12.4f} {scores['recall']:<12.4f} \"\n",
    "              f\"{scores['f1']:<12.4f} {scores['support']:<10}\")"
   ]
  },
  {
   "cell_type": "code",
   "execution_count": 65,
   "id": "cae27fde",
   "metadata": {},
   "outputs": [],
   "source": [
    "def plot_training(history, save_path=None, show=True):\n",
    "    epochs = np.arange(1, len(history[\"train_loss\"]) + 1)\n",
    "\n",
    "    plt.figure(figsize=(8, 6))\n",
    "    plt.plot(epochs, history[\"train_loss\"], label=\"Train Loss\", marker='o')\n",
    "    if \"val_loss\" in history:\n",
    "        plt.plot(epochs, history[\"val_loss\"], label=\"Validation Loss\", marker='s')\n",
    "    plt.xlabel(\"Epoch\")\n",
    "    plt.ylabel(\"Loss\")\n",
    "    plt.title(\"Training and Validation Loss\")\n",
    "    plt.legend()\n",
    "    plt.grid(True)\n",
    "    plt.tight_layout()\n",
    "    plt.show()\n",
    "\n",
    "    if \"train_acc\" in history or \"val_acc\" in history:\n",
    "        plt.figure(figsize=(8, 6))\n",
    "        if \"train_acc\" in history:\n",
    "            plt.plot(epochs, history[\"train_acc\"], label=\"Train Accuracy\", marker='o')\n",
    "        if \"val_acc\" in history:\n",
    "            plt.plot(epochs, history[\"val_acc\"], label=\"Validation Accuracy\", marker='s')\n",
    "        plt.xlabel(\"Epoch\")\n",
    "        plt.ylabel(\"Accuracy\")\n",
    "        plt.title(\"Training and Validation Accuracy\")\n",
    "        plt.legend()\n",
    "        plt.grid(True)\n",
    "        plt.tight_layout()\n",
    "        plt.show()"
   ]
  },
  {
   "cell_type": "code",
   "execution_count": null,
   "id": "b2d98266",
   "metadata": {},
   "outputs": [
    {
     "name": "stdout",
     "output_type": "stream",
     "text": [
      "Using device: cuda\n",
      "Loading data\n",
      "Train sentences: 2394\n",
      "Dev sentences: 1000\n",
      "Test sentences: 3850\n",
      "Max sequence length: 41\n",
      "\n",
      "Building vocabulary\n",
      "Vocabulary size: 19670\n",
      "Tag set size: 22\n",
      "Tags: ['<PAD>', 'B-company', 'B-facility', 'B-geo-loc', 'B-movie', 'B-musicartist', 'B-other', 'B-person', 'B-product', 'B-sportsteam', 'B-tvshow', 'I-company', 'I-facility', 'I-geo-loc', 'I-movie', 'I-musicartist', 'I-other', 'I-person', 'I-product', 'I-sportsteam', 'I-tvshow', 'O']\n",
      "Loading GloVe embeddings\n"
     ]
    },
    {
     "name": "stderr",
     "output_type": "stream",
     "text": [
      "1193514it [00:56, 21072.68it/s]\n"
     ]
    },
    {
     "name": "stdout",
     "output_type": "stream",
     "text": [
      "Loaded 1193514 word vectors\n",
      "Preparing data\n",
      "Creating model\n",
      "Found embeddings for 16211/19670 words (82.41%)\n",
      "Total parameters: 5,563,382\n",
      "Trainable parameters: 1,629,382\n",
      "Starting training\n",
      "\n",
      "Epoch 1/30\n"
     ]
    },
    {
     "name": "stderr",
     "output_type": "stream",
     "text": [
      "Training: 100%|██████████| 150/150 [00:31<00:00,  4.77it/s]\n"
     ]
    },
    {
     "name": "stdout",
     "output_type": "stream",
     "text": [
      "Train Loss: 4.5633, Train Acc: 0.9413\n",
      "Validation Loss: 3.3881, Validation Acc: 0.9375\n",
      "Validation -> P: 0.4226, R: 0.1074, F1: 0.1713\n",
      "Best model saved! (Entity F1: 0.1713)\n",
      "\n",
      "Epoch 2/30\n"
     ]
    },
    {
     "name": "stderr",
     "output_type": "stream",
     "text": [
      "Training: 100%|██████████| 150/150 [00:34<00:00,  4.30it/s]\n"
     ]
    },
    {
     "name": "stdout",
     "output_type": "stream",
     "text": [
      "Train Loss: 2.7842, Train Acc: 0.9528\n",
      "Validation Loss: 3.1158, Validation Acc: 0.9405\n",
      "Validation -> P: 0.4571, R: 0.1936, F1: 0.2721\n",
      "Best model saved! (Entity F1: 0.2721)\n",
      "\n",
      "Epoch 3/30\n"
     ]
    },
    {
     "name": "stderr",
     "output_type": "stream",
     "text": [
      "Training: 100%|██████████| 150/150 [00:35<00:00,  4.27it/s]\n"
     ]
    },
    {
     "name": "stdout",
     "output_type": "stream",
     "text": [
      "Train Loss: 2.3964, Train Acc: 0.9562\n",
      "Validation Loss: 2.6091, Validation Acc: 0.9354\n",
      "Validation -> P: 0.4797, R: 0.2678, F1: 0.3437\n",
      "Best model saved! (Entity F1: 0.3437)\n",
      "\n",
      "Epoch 4/30\n"
     ]
    },
    {
     "name": "stderr",
     "output_type": "stream",
     "text": [
      "Training: 100%|██████████| 150/150 [00:34<00:00,  4.33it/s]\n"
     ]
    },
    {
     "name": "stdout",
     "output_type": "stream",
     "text": [
      "Train Loss: 2.1679, Train Acc: 0.9572\n",
      "Validation Loss: 2.5436, Validation Acc: 0.9396\n",
      "Validation -> P: 0.4986, R: 0.2784, F1: 0.3573\n",
      "Best model saved! (Entity F1: 0.3573)\n",
      "\n",
      "Epoch 5/30\n"
     ]
    },
    {
     "name": "stderr",
     "output_type": "stream",
     "text": [
      "Training: 100%|██████████| 150/150 [00:33<00:00,  4.51it/s]\n"
     ]
    },
    {
     "name": "stdout",
     "output_type": "stream",
     "text": [
      "Train Loss: 2.0410, Train Acc: 0.9596\n",
      "Validation Loss: 2.5329, Validation Acc: 0.9389\n",
      "Validation -> P: 0.4734, R: 0.2829, F1: 0.3542\n",
      "No improvement. Patience: 1/5\n",
      "\n",
      "Epoch 6/30\n"
     ]
    },
    {
     "name": "stderr",
     "output_type": "stream",
     "text": [
      "Training: 100%|██████████| 150/150 [00:41<00:00,  3.63it/s]\n"
     ]
    },
    {
     "name": "stdout",
     "output_type": "stream",
     "text": [
      "Train Loss: 1.8777, Train Acc: 0.9620\n",
      "Validation Loss: 2.5747, Validation Acc: 0.9442\n",
      "Validation -> P: 0.5605, R: 0.2663, F1: 0.3610\n",
      "Best model saved! (Entity F1: 0.3610)\n",
      "\n",
      "Epoch 7/30\n"
     ]
    },
    {
     "name": "stderr",
     "output_type": "stream",
     "text": [
      "Training: 100%|██████████| 150/150 [00:35<00:00,  4.24it/s]\n"
     ]
    },
    {
     "name": "stdout",
     "output_type": "stream",
     "text": [
      "Train Loss: 1.7362, Train Acc: 0.9633\n",
      "Validation Loss: 2.5727, Validation Acc: 0.9451\n",
      "Validation -> P: 0.5368, R: 0.3086, F1: 0.3919\n",
      "Best model saved! (Entity F1: 0.3919)\n",
      "\n",
      "Epoch 8/30\n"
     ]
    },
    {
     "name": "stderr",
     "output_type": "stream",
     "text": [
      "Training: 100%|██████████| 150/150 [00:32<00:00,  4.58it/s]\n"
     ]
    },
    {
     "name": "stdout",
     "output_type": "stream",
     "text": [
      "Train Loss: 1.7018, Train Acc: 0.9646\n",
      "Validation Loss: 2.4595, Validation Acc: 0.9450\n",
      "Validation -> P: 0.5255, R: 0.3268, F1: 0.4030\n",
      "Best model saved! (Entity F1: 0.4030)\n",
      "\n",
      "Epoch 9/30\n"
     ]
    },
    {
     "name": "stderr",
     "output_type": "stream",
     "text": [
      "Training: 100%|██████████| 150/150 [00:32<00:00,  4.56it/s]\n"
     ]
    },
    {
     "name": "stdout",
     "output_type": "stream",
     "text": [
      "Train Loss: 1.6276, Train Acc: 0.9668\n",
      "Validation Loss: 2.5060, Validation Acc: 0.9442\n",
      "Validation -> P: 0.5473, R: 0.2799, F1: 0.3704\n",
      "No improvement. Patience: 1/5\n",
      "\n",
      "Epoch 10/30\n"
     ]
    },
    {
     "name": "stderr",
     "output_type": "stream",
     "text": [
      "Training: 100%|██████████| 150/150 [00:32<00:00,  4.61it/s]\n"
     ]
    },
    {
     "name": "stdout",
     "output_type": "stream",
     "text": [
      "Train Loss: 1.4608, Train Acc: 0.9692\n",
      "Validation Loss: 2.4796, Validation Acc: 0.9455\n",
      "Validation -> P: 0.5608, R: 0.3207, F1: 0.4081\n",
      "Best model saved! (Entity F1: 0.4081)\n",
      "\n",
      "Epoch 11/30\n"
     ]
    },
    {
     "name": "stderr",
     "output_type": "stream",
     "text": [
      "Training: 100%|██████████| 150/150 [00:40<00:00,  3.74it/s]\n"
     ]
    },
    {
     "name": "stdout",
     "output_type": "stream",
     "text": [
      "Train Loss: 1.3873, Train Acc: 0.9695\n",
      "Validation Loss: 2.4510, Validation Acc: 0.9471\n",
      "Validation -> P: 0.5130, R: 0.3585, F1: 0.4221\n",
      "Best model saved! (Entity F1: 0.4221)\n",
      "\n",
      "Epoch 12/30\n"
     ]
    },
    {
     "name": "stderr",
     "output_type": "stream",
     "text": [
      "Training: 100%|██████████| 150/150 [00:38<00:00,  3.93it/s]\n"
     ]
    },
    {
     "name": "stdout",
     "output_type": "stream",
     "text": [
      "Train Loss: 1.3416, Train Acc: 0.9690\n",
      "Validation Loss: 2.5285, Validation Acc: 0.9393\n",
      "Validation -> P: 0.4955, R: 0.3298, F1: 0.3960\n",
      "No improvement. Patience: 1/5\n",
      "\n",
      "Epoch 13/30\n"
     ]
    },
    {
     "name": "stderr",
     "output_type": "stream",
     "text": [
      "Training: 100%|██████████| 150/150 [00:36<00:00,  4.07it/s]\n"
     ]
    },
    {
     "name": "stdout",
     "output_type": "stream",
     "text": [
      "Train Loss: 1.2234, Train Acc: 0.9727\n",
      "Validation Loss: 2.4321, Validation Acc: 0.9474\n",
      "Validation -> P: 0.5607, R: 0.3495, F1: 0.4306\n",
      "Best model saved! (Entity F1: 0.4306)\n",
      "\n",
      "Epoch 14/30\n"
     ]
    },
    {
     "name": "stderr",
     "output_type": "stream",
     "text": [
      "Training: 100%|██████████| 150/150 [00:37<00:00,  4.03it/s]\n"
     ]
    },
    {
     "name": "stdout",
     "output_type": "stream",
     "text": [
      "Train Loss: 1.2267, Train Acc: 0.9733\n",
      "Validation Loss: 2.5705, Validation Acc: 0.9455\n",
      "Validation -> P: 0.5398, R: 0.3283, F1: 0.4083\n",
      "No improvement. Patience: 1/5\n",
      "\n",
      "Epoch 15/30\n"
     ]
    },
    {
     "name": "stderr",
     "output_type": "stream",
     "text": [
      "Training: 100%|██████████| 150/150 [00:35<00:00,  4.17it/s]\n"
     ]
    },
    {
     "name": "stdout",
     "output_type": "stream",
     "text": [
      "Train Loss: 1.1387, Train Acc: 0.9740\n",
      "Validation Loss: 2.4078, Validation Acc: 0.9456\n",
      "Validation -> P: 0.5224, R: 0.3873, F1: 0.4448\n",
      "Best model saved! (Entity F1: 0.4448)\n",
      "\n",
      "Epoch 16/30\n"
     ]
    },
    {
     "name": "stderr",
     "output_type": "stream",
     "text": [
      "Training: 100%|██████████| 150/150 [00:41<00:00,  3.61it/s]\n"
     ]
    },
    {
     "name": "stdout",
     "output_type": "stream",
     "text": [
      "Train Loss: 1.0631, Train Acc: 0.9761\n",
      "Validation Loss: 2.6404, Validation Acc: 0.9485\n",
      "Validation -> P: 0.5444, R: 0.3525, F1: 0.4279\n",
      "No improvement. Patience: 1/5\n",
      "\n",
      "Epoch 17/30\n"
     ]
    },
    {
     "name": "stderr",
     "output_type": "stream",
     "text": [
      "Training: 100%|██████████| 150/150 [00:35<00:00,  4.20it/s]\n"
     ]
    },
    {
     "name": "stdout",
     "output_type": "stream",
     "text": [
      "Train Loss: 0.9862, Train Acc: 0.9773\n",
      "Validation Loss: 2.7962, Validation Acc: 0.9485\n",
      "Validation -> P: 0.5678, R: 0.3359, F1: 0.4221\n",
      "No improvement. Patience: 2/5\n",
      "\n",
      "Epoch 18/30\n"
     ]
    },
    {
     "name": "stderr",
     "output_type": "stream",
     "text": [
      "Training: 100%|██████████| 150/150 [00:39<00:00,  3.76it/s]\n"
     ]
    },
    {
     "name": "stdout",
     "output_type": "stream",
     "text": [
      "Train Loss: 0.9377, Train Acc: 0.9786\n",
      "Validation Loss: 2.4860, Validation Acc: 0.9471\n",
      "Validation -> P: 0.5253, R: 0.3767, F1: 0.4388\n",
      "No improvement. Patience: 3/5\n",
      "\n",
      "Epoch 19/30\n"
     ]
    },
    {
     "name": "stderr",
     "output_type": "stream",
     "text": [
      "Training: 100%|██████████| 150/150 [00:38<00:00,  3.91it/s]\n"
     ]
    },
    {
     "name": "stdout",
     "output_type": "stream",
     "text": [
      "Train Loss: 0.8400, Train Acc: 0.9804\n",
      "Validation Loss: 2.6394, Validation Acc: 0.9473\n",
      "Validation -> P: 0.5423, R: 0.3585, F1: 0.4317\n",
      "No improvement. Patience: 4/5\n",
      "\n",
      "Epoch 20/30\n"
     ]
    },
    {
     "name": "stderr",
     "output_type": "stream",
     "text": [
      "Training: 100%|██████████| 150/150 [00:37<00:00,  3.96it/s]\n"
     ]
    },
    {
     "name": "stdout",
     "output_type": "stream",
     "text": [
      "Train Loss: 0.7523, Train Acc: 0.9813\n",
      "Validation Loss: 2.6656, Validation Acc: 0.9493\n",
      "Validation -> P: 0.5418, R: 0.4024, F1: 0.4618\n",
      "Best model saved! (Entity F1: 0.4618)\n",
      "\n",
      "Epoch 21/30\n"
     ]
    },
    {
     "name": "stderr",
     "output_type": "stream",
     "text": [
      "Training: 100%|██████████| 150/150 [00:38<00:00,  3.87it/s]\n"
     ]
    },
    {
     "name": "stdout",
     "output_type": "stream",
     "text": [
      "Train Loss: 0.6976, Train Acc: 0.9834\n",
      "Validation Loss: 2.6906, Validation Acc: 0.9472\n",
      "Validation -> P: 0.5212, R: 0.3903, F1: 0.4464\n",
      "No improvement. Patience: 1/5\n",
      "\n",
      "Epoch 22/30\n"
     ]
    },
    {
     "name": "stderr",
     "output_type": "stream",
     "text": [
      "Training: 100%|██████████| 150/150 [00:40<00:00,  3.70it/s]\n"
     ]
    },
    {
     "name": "stdout",
     "output_type": "stream",
     "text": [
      "Train Loss: 0.6509, Train Acc: 0.9839\n",
      "Validation Loss: 2.8543, Validation Acc: 0.9444\n",
      "Validation -> P: 0.5353, R: 0.3782, F1: 0.4433\n",
      "No improvement. Patience: 2/5\n",
      "\n",
      "Epoch 23/30\n"
     ]
    },
    {
     "name": "stderr",
     "output_type": "stream",
     "text": [
      "Training: 100%|██████████| 150/150 [00:40<00:00,  3.69it/s]\n"
     ]
    },
    {
     "name": "stdout",
     "output_type": "stream",
     "text": [
      "Train Loss: 0.6697, Train Acc: 0.9835\n",
      "Validation Loss: 2.7788, Validation Acc: 0.9451\n",
      "Validation -> P: 0.5210, R: 0.3933, F1: 0.4483\n",
      "No improvement. Patience: 3/5\n",
      "\n",
      "Epoch 24/30\n"
     ]
    },
    {
     "name": "stderr",
     "output_type": "stream",
     "text": [
      "Training: 100%|██████████| 150/150 [00:37<00:00,  3.96it/s]\n"
     ]
    },
    {
     "name": "stdout",
     "output_type": "stream",
     "text": [
      "Train Loss: 0.5968, Train Acc: 0.9849\n",
      "Validation Loss: 2.8583, Validation Acc: 0.9492\n",
      "Validation -> P: 0.5567, R: 0.4009, F1: 0.4661\n",
      "Best model saved! (Entity F1: 0.4661)\n",
      "\n",
      "Epoch 25/30\n"
     ]
    },
    {
     "name": "stderr",
     "output_type": "stream",
     "text": [
      "Training: 100%|██████████| 150/150 [00:34<00:00,  4.38it/s]\n"
     ]
    },
    {
     "name": "stdout",
     "output_type": "stream",
     "text": [
      "Train Loss: 0.5707, Train Acc: 0.9849\n",
      "Validation Loss: 2.9161, Validation Acc: 0.9505\n",
      "Validation -> P: 0.5761, R: 0.4009, F1: 0.4728\n",
      "Best model saved! (Entity F1: 0.4728)\n",
      "\n",
      "Epoch 26/30\n"
     ]
    },
    {
     "name": "stderr",
     "output_type": "stream",
     "text": [
      "Training: 100%|██████████| 150/150 [00:36<00:00,  4.10it/s]\n"
     ]
    },
    {
     "name": "stdout",
     "output_type": "stream",
     "text": [
      "Train Loss: 0.5587, Train Acc: 0.9861\n",
      "Validation Loss: 2.9275, Validation Acc: 0.9463\n",
      "Validation -> P: 0.5406, R: 0.3828, F1: 0.4482\n",
      "No improvement. Patience: 1/5\n",
      "\n",
      "Epoch 27/30\n"
     ]
    },
    {
     "name": "stderr",
     "output_type": "stream",
     "text": [
      "Training: 100%|██████████| 150/150 [00:39<00:00,  3.82it/s]\n"
     ]
    },
    {
     "name": "stdout",
     "output_type": "stream",
     "text": [
      "Train Loss: 0.5408, Train Acc: 0.9866\n",
      "Validation Loss: 2.9774, Validation Acc: 0.9501\n",
      "Validation -> P: 0.5584, R: 0.3903, F1: 0.4595\n",
      "No improvement. Patience: 2/5\n",
      "\n",
      "Epoch 28/30\n"
     ]
    },
    {
     "name": "stderr",
     "output_type": "stream",
     "text": [
      "Training: 100%|██████████| 150/150 [00:33<00:00,  4.52it/s]\n"
     ]
    },
    {
     "name": "stdout",
     "output_type": "stream",
     "text": [
      "Train Loss: 0.5292, Train Acc: 0.9866\n",
      "Validation Loss: 2.9081, Validation Acc: 0.9464\n",
      "Validation -> P: 0.5307, R: 0.3918, F1: 0.4508\n",
      "No improvement. Patience: 3/5\n",
      "\n",
      "Epoch 29/30\n"
     ]
    },
    {
     "name": "stderr",
     "output_type": "stream",
     "text": [
      "Training: 100%|██████████| 150/150 [00:35<00:00,  4.28it/s]\n"
     ]
    },
    {
     "name": "stdout",
     "output_type": "stream",
     "text": [
      "Train Loss: 0.5335, Train Acc: 0.9867\n",
      "Validation Loss: 2.9661, Validation Acc: 0.9497\n",
      "Validation -> P: 0.5618, R: 0.3918, F1: 0.4617\n",
      "No improvement. Patience: 4/5\n",
      "\n",
      "Epoch 30/30\n"
     ]
    },
    {
     "name": "stderr",
     "output_type": "stream",
     "text": [
      "Training: 100%|██████████| 150/150 [00:35<00:00,  4.22it/s]\n"
     ]
    },
    {
     "name": "stdout",
     "output_type": "stream",
     "text": [
      "Train Loss: 0.4791, Train Acc: 0.9863\n",
      "Validation Loss: 2.9568, Validation Acc: 0.9500\n",
      "Validation -> P: 0.5602, R: 0.4085, F1: 0.4724\n",
      "No improvement. Patience: 5/5\n",
      "Early stopping triggered\n"
     ]
    },
    {
     "data": {
      "image/png": "[encoded data removed]",
      "text/plain": [
       "<Figure size 800x600 with 1 Axes>"
      ]
     },
     "metadata": {},
     "output_type": "display_data"
    },
    {
     "data": {
      "image/png": "[encoded data removed]",
      "text/plain": [
       "<Figure size 800x600 with 1 Axes>"
      ]
     },
     "metadata": {},
     "output_type": "display_data"
    },
    {
     "name": "stdout",
     "output_type": "stream",
     "text": [
      "Loading best model for final evaluation\n",
      "\n",
      "              Final Validation (Entity-level)               \n",
      "\n",
      "Precision: 0.5761  Recall: 0.4009  F1: 0.4728\n",
      "Generating test predictions\n",
      "Predictions saved to result.txt\n",
      "Training completed\n"
     ]
    }
   ],
   "source": [
    "def main():\n",
    "    device = torch.device('cuda' if torch.cuda.is_available() else 'cpu')\n",
    "    print(f\"Using device: {device}\")\n",
    "\n",
    "    # Load data\n",
    "    print(\"Loading data\")\n",
    "    train_sentences = read_data(TRAIN_PATH)\n",
    "    dev_sentences = read_data(DEV_PATH)\n",
    "    test_sentences = read_data(TEST_PATH, has_labels=False)\n",
    "    print(f\"Train sentences: {len(train_sentences)}\")\n",
    "    print(f\"Dev sentences: {len(dev_sentences)}\")\n",
    "    print(f\"Test sentences: {len(test_sentences)}\")\n",
    "\n",
    "    max_len = max(\n",
    "        max(len(s) for s in train_sentences),\n",
    "        max(len(s) for s in dev_sentences),\n",
    "        max(len(s) for s in test_sentences)\n",
    "    )\n",
    "    print(f\"Max sequence length: {max_len}\")\n",
    "\n",
    "    # Build vocabulary from train/dev/test tokens\n",
    "    print(\"\\nBuilding vocabulary\")\n",
    "    all_words = set()\n",
    "    all_tags = set()\n",
    "    for sents in [train_sentences, dev_sentences, test_sentences]:\n",
    "        for sentence in sents:\n",
    "            for word, tag, _ in sentence:\n",
    "                all_words.add(word)\n",
    "                all_tags.add(tag)\n",
    "    word_indexer = Indexer(all_words, is_word_dict=True)\n",
    "    tag_indexer = Indexer(all_tags, is_word_dict=False)\n",
    "\n",
    "    print(f\"Vocabulary size: {word_indexer.size()}\")\n",
    "    print(f\"Tag set size: {tag_indexer.size()}\")\n",
    "    print(f\"Tags: {sorted(tag_indexer.get_dict().keys())}\")\n",
    "\n",
    "    glove_embeddings = load_glove_embeddings(EMBEDDINGS_PATH)\n",
    "\n",
    "    # Prepare arrays\n",
    "    print(\"Preparing data\")\n",
    "    train_Xw, train_Xc, train_y = prepare_data(train_sentences, word_indexer, tag_indexer, max_len)\n",
    "    dev_Xw, dev_Xc, dev_y = prepare_data(dev_sentences, word_indexer, tag_indexer, max_len)\n",
    "    test_Xw, test_Xc, test_y = prepare_data(test_sentences, word_indexer, tag_indexer, max_len)\n",
    "\n",
    "    train_dataset = torch.utils.data.TensorDataset(\n",
    "        torch.LongTensor(train_Xw), torch.FloatTensor(train_Xc), torch.LongTensor(train_y)\n",
    "    )\n",
    "    dev_dataset = torch.utils.data.TensorDataset(\n",
    "        torch.LongTensor(dev_Xw), torch.FloatTensor(dev_Xc), torch.LongTensor(dev_y)\n",
    "    )\n",
    "    test_dataset = torch.utils.data.TensorDataset(\n",
    "        torch.LongTensor(test_Xw), torch.FloatTensor(test_Xc), torch.LongTensor(test_y)\n",
    "    )\n",
    "\n",
    "    train_loader = torch.utils.data.DataLoader(\n",
    "        train_dataset, batch_size=BATCH_SIZE, shuffle=True\n",
    "    )\n",
    "    dev_loader = torch.utils.data.DataLoader(\n",
    "        dev_dataset, batch_size=BATCH_SIZE\n",
    "    )\n",
    "    test_loader = torch.utils.data.DataLoader(\n",
    "        test_dataset, batch_size=BATCH_SIZE\n",
    "    )\n",
    "\n",
    "    # Create model\n",
    "    print(\"Creating model\")\n",
    "    embedding_matrix = create_embedding_matrix(word_indexer, glove_embeddings, EMBEDDING_DIM)\n",
    "    model = BiLSTM_NER(\n",
    "        vocab_size=word_indexer.size(),\n",
    "        embedding_dim=EMBEDDING_DIM,\n",
    "        hidden_dim=HIDDEN_DIM,\n",
    "        tagset_size=tag_indexer.size(),\n",
    "        pretrained_embeddings=embedding_matrix,\n",
    "        dropout=DROPOUT,\n",
    "        num_layers=NUM_LAYERS,\n",
    "        pad_tag_id=0\n",
    "    ).to(device)\n",
    "\n",
    "    apply_bio_constraints(model.crf, tag_indexer)\n",
    "\n",
    "    total_params = sum(p.numel() for p in model.parameters())\n",
    "    trainable_params = sum(p.numel() for p in model.parameters() if p.requires_grad)\n",
    "    print(f\"Total parameters: {total_params:,}\")\n",
    "    print(f\"Trainable parameters: {trainable_params:,}\")\n",
    "\n",
    "    # AdamW param \n",
    "    decay, no_decay = [], []\n",
    "    for n, p in model.named_parameters():\n",
    "        if not p.requires_grad:\n",
    "            continue\n",
    "        if n.endswith(\".bias\") or \"norm\" in n.lower() or \"crf.transitions\" in n or \"start_transitions\" in n or \"end_transitions\" in n:\n",
    "            no_decay.append(p)\n",
    "        else:\n",
    "            decay.append(p)\n",
    "\n",
    "    optimizer = optim.AdamW(\n",
    "        [{\"params\": decay, \"weight_decay\": WEIGHT_DECAY},\n",
    "         {\"params\": no_decay, \"weight_decay\": 0.0}],\n",
    "        lr=LEARNING_RATE\n",
    "    )\n",
    "\n",
    "    scheduler = optim.lr_scheduler.ReduceLROnPlateau(\n",
    "        optimizer, mode='max', factor=0.5, patience=2\n",
    "    )\n",
    "\n",
    "    # Training loop with entity-level F1 as the key metric\n",
    "    print(\"Starting training\")\n",
    "    best_f1 = 0.0\n",
    "    patience_counter = 0\n",
    "    max_patience = 5\n",
    "\n",
    "    history = {\n",
    "        \"train_loss\": [],\n",
    "        \"train_acc\": [],\n",
    "        \"val_loss\":[],\n",
    "        \"val_acc\":[],\n",
    "        \"ent_f1\": [],\n",
    "        \"lr\": []\n",
    "    }\n",
    "\n",
    "    for epoch in range(EPOCHS):\n",
    "        print(f\"\\nEpoch {epoch + 1}/{EPOCHS}\")\n",
    "        train_loss, train_acc = train_epoch(\n",
    "            model, train_loader, optimizer, device, CLIP_GRAD\n",
    "        )\n",
    "        print(f\"Train Loss: {train_loss:.4f}, Train Acc: {train_acc:.4f}\")\n",
    "\n",
    "        model.eval()\n",
    "        total_val_loss = 0.0\n",
    "        correct_val = 0\n",
    "        total_val = 0\n",
    "\n",
    "        with torch.no_grad():\n",
    "            for batch_Xw, batch_Xc, batch_y in dev_loader:\n",
    "                batch_Xw = batch_Xw.to(device)\n",
    "                batch_Xc = batch_Xc.to(device)\n",
    "                batch_y = batch_y.to(device)\n",
    "                lengths = get_sequence_lengths(batch_Xw)\n",
    "                mask = (batch_y != 0).to(device)\n",
    "\n",
    "                # Compute validation loss\n",
    "                loss = model.neg_log_likelihood(batch_Xw, batch_Xc, batch_y, mask=mask, lengths=lengths, reduction='mean')\n",
    "                total_val_loss += loss.item()\n",
    "\n",
    "                # Compute token-level accuracy\n",
    "                pred_paths = model.decode(batch_Xw, batch_Xc, mask=mask, lengths=lengths)\n",
    "                for i, path in enumerate(pred_paths):\n",
    "                    gold = batch_y[i][mask[i]].tolist()\n",
    "                    pred = path[:len(gold)]\n",
    "                    correct_val += sum(p == g for p, g in zip(pred, gold))\n",
    "                    total_val += len(gold)\n",
    "\n",
    "        val_loss = total_val_loss / len(dev_loader)\n",
    "        val_acc = correct_val / total_val if total_val > 0 else 0.0\n",
    "\n",
    "        print(f\"Validation Loss: {val_loss:.4f}, Validation Acc: {val_acc:.4f}\")\n",
    "\n",
    "        p_ent, r_ent, f1_ent = evaluate_entity_level(model, dev_loader, tag_indexer, device)\n",
    "        print(f\"Validation -> P: {p_ent:.4f}, R: {r_ent:.4f}, F1: {f1_ent:.4f}\")\n",
    "\n",
    "        history[\"train_loss\"].append(train_loss)\n",
    "        history[\"val_loss\"].append(val_loss)\n",
    "        history[\"train_acc\"].append(train_acc)\n",
    "        history[\"val_acc\"].append(val_acc)\n",
    "        history[\"ent_f1\"].append(f1_ent)\n",
    "        history[\"lr\"].append(optimizer.param_groups[0][\"lr\"])\n",
    "\n",
    "        scheduler.step(f1_ent)\n",
    "\n",
    "        if f1_ent > best_f1:\n",
    "            best_f1 = f1_ent\n",
    "            patience_counter = 0\n",
    "            torch.save({\n",
    "                'epoch': epoch,\n",
    "                'model_state_dict': model.state_dict(),\n",
    "                'optimizer_state_dict': optimizer.state_dict(),\n",
    "                'best_f1': best_f1,\n",
    "            }, 'best_model.pth')\n",
    "            print(f\"Best model saved! (Entity F1: {best_f1:.4f})\")\n",
    "        else:\n",
    "            patience_counter += 1\n",
    "            print(f\"No improvement. Patience: {patience_counter}/{max_patience}\")\n",
    "            if patience_counter >= max_patience:\n",
    "                print(\"Early stopping triggered\")\n",
    "                break\n",
    "\n",
    "    # Plot curves after training\n",
    "    plot_training(history, save_path=\"training_curves.png\")\n",
    "\n",
    "    print(\"Loading best model for final evaluation\")\n",
    "    checkpoint = torch.load('best_model.pth', weights_only=False)\n",
    "    model.load_state_dict(checkpoint['model_state_dict'])\n",
    "\n",
    "    # Final report\n",
    "    p_ent, r_ent, f1_ent = evaluate_entity_level(model, dev_loader, tag_indexer, device)\n",
    "    print(f\"\\n{'Final Validation (Entity-level)':^60}\\n\")\n",
    "    print(f\"Precision: {p_ent:.4f}  Recall: {r_ent:.4f}  F1: {f1_ent:.4f}\")\n",
    "\n",
    "    final_metrics = evaluate_detailed(model, dev_loader, tag_indexer, device)\n",
    "    print_metrics(final_metrics, \"Final Validation (Token-level Detailed)\")\n",
    "\n",
    "    # Test predictions\n",
    "    print(\"Generating test predictions\")\n",
    "    test_predictions = predict(model, test_loader, device)\n",
    "    write_predictions(test_sentences, test_predictions, tag_indexer, 'result.txt')\n",
    "    print(\"Predictions saved to result.txt\")\n",
    "    print(\"Training completed\")\n",
    "\n",
    "if __name__ == \"__main__\":\n",
    "    main()"
   ]
  }
 ],
 "metadata": {
  "kernelspec": {
   "display_name": "test",
   "language": "python",
   "name": "python3"
  },
  "language_info": {
   "codemirror_mode": {
    "name": "ipython",
    "version": 3
   },
   "file_extension": ".py",
   "mimetype": "text/x-python",
   "name": "python",
   "nbconvert_exporter": "python",
   "pygments_lexer": "ipython3",
   "version": "3.12.11"
  }
 },
 "nbformat": 4,
 "nbformat_minor": 5
}
